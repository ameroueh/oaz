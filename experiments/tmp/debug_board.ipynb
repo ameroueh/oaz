{
 "cells": [
  {
   "cell_type": "code",
   "execution_count": 1,
   "id": "usual-moral",
   "metadata": {},
   "outputs": [],
   "source": [
    "from pyoaz.games.connect_four import ConnectFour\n",
    "import numpy as np\n",
    "from pyoaz.games.connect_four.viz import view_board"
   ]
  },
  {
   "cell_type": "code",
   "execution_count": 38,
   "id": "thrown-setup",
   "metadata": {},
   "outputs": [],
   "source": [
    "# can_board = np.load(\"can_board.npy\")\n",
    "# board = np.load(\"board.npy\")\n",
    "\n",
    "# view_board(can_board)\n",
    "\n",
    "# game = ConnectFour.from_numpy(board, is_canonical=False)\n",
    "\n",
    "# view_board(game.board)"
   ]
  },
  {
   "cell_type": "code",
   "execution_count": 36,
   "id": "pretty-tsunami",
   "metadata": {},
   "outputs": [
    {
     "name": "stdout",
     "output_type": "stream",
     "text": [
      "[0, 1, 2, 3, 4, 5, 6]\n",
      "[0, 1, 2, 3, 4, 5, 6]\n",
      "[0, 1, 2, 3, 4, 5, 6]\n",
      "[0, 1, 2, 3, 4, 5, 6]\n",
      "[0, 1, 2, 3, 4, 5, 6]\n",
      "[0, 1, 2, 3, 4, 5, 6]\n",
      "[0, 1, 2, 3, 4, 5, 6]\n",
      "[0, 1, 2, 3, 4, 5, 6]\n",
      "[0, 1, 2, 3, 4, 5, 6]\n",
      "[0, 1, 2, 3, 4, 5, 6]\n",
      "[0, 1, 2, 3, 4, 5, 6]\n",
      "[]\n"
     ]
    },
    {
     "data": {
      "image/png": "[encoded data removed]",
      "text/plain": [
       "<Figure size 504x432 with 1 Axes>"
      ]
     },
     "metadata": {
      "needs_background": "light"
     },
     "output_type": "display_data"
    }
   ],
   "source": [
    "game = ConnectFour()\n",
    "game.play_move(0)\n",
    "# view_board(game.board)\n",
    "print(game.available_moves)\n",
    "game.play_move(4)\n",
    "# view_board(game.board)\n",
    "print(game.available_moves)\n",
    "game.play_move(2)\n",
    "# view_board(game.board)\n",
    "print(game.available_moves)\n",
    "game.play_move(4)\n",
    "# view_board(game.board)\n",
    "print(game.available_moves)\n",
    "game.play_move(3)\n",
    "# view_board(game.board)\n",
    "print(game.available_moves)\n",
    "game.play_move(2)\n",
    "print(game.available_moves)\n",
    "game.play_move(2)\n",
    "print(game.available_moves)\n",
    "game.play_move(3)\n",
    "print(game.available_moves)\n",
    "game.play_move(3)\n",
    "print(game.available_moves)\n",
    "game.play_move(4)\n",
    "print(game.available_moves)\n",
    "game.play_move(5)\n",
    "print(game.available_moves)\n",
    "game.play_move(5)\n",
    "print(game.available_moves)\n",
    "view_board(game.board)\n",
    "\n"
   ]
  },
  {
   "cell_type": "code",
   "execution_count": 37,
   "id": "special-index",
   "metadata": {},
   "outputs": [
    {
     "data": {
      "text/plain": [
       "array([[ 1.,  0.,  1.,  1., -1.,  1.,  0.],\n",
       "       [ 0.,  0., -1., -1., -1., -1.,  0.],\n",
       "       [ 0.,  0.,  1.,  1., -1.,  0.,  0.],\n",
       "       [ 0.,  0.,  0.,  0.,  0.,  0.,  0.],\n",
       "       [ 0.,  0.,  0.,  0.,  0.,  0.,  0.],\n",
       "       [ 0.,  0.,  0.,  0.,  0.,  0.,  0.]], dtype=float32)"
      ]
     },
     "execution_count": 37,
     "metadata": {},
     "output_type": "execute_result"
    }
   ],
   "source": [
    "game.board[...,0]-game.board[...,1]"
   ]
  }
 ],
 "metadata": {
  "kernelspec": {
   "display_name": "Python 3",
   "language": "python",
   "name": "python3"
  },
  "language_info": {
   "codemirror_mode": {
    "name": "ipython",
    "version": 3
   },
   "file_extension": ".py",
   "mimetype": "text/x-python",
   "name": "python",
   "nbconvert_exporter": "python",
   "pygments_lexer": "ipython3",
   "version": "3.6.12"
  }
 },
 "nbformat": 4,
 "nbformat_minor": 5
}
